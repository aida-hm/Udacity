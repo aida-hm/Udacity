{
  "cells": [
    {
      "cell_type": "markdown",
      "metadata": {
        "id": "view-in-github",
        "colab_type": "text"
      },
      "source": [
        "<a href=\"https://colab.research.google.com/github/aida-hm/Udacity/blob/main/MNIST_Handwritten_Digits_STARTER.ipynb\" target=\"_parent\"><img src=\"https://colab.research.google.com/assets/colab-badge.svg\" alt=\"Open In Colab\"/></a>"
      ]
    },
    {
      "cell_type": "markdown",
      "metadata": {
        "id": "2PUkicVtG20y"
      },
      "source": [
        "# Introduction\n",
        "\n",
        "In this project, you will build a neural network of your own design to evaluate the MNIST dataset.\n",
        "\n",
        "Some of the benchmark results on MNIST include can be found [on Yann LeCun's page](https://webcache.googleusercontent.com/search?q=cache:stAVPik6onEJ:yann.lecun.com/exdb/mnist) and include:\n",
        "\n",
        "88% [Lecun et al., 1998](https://hal.science/hal-03926082/document)\n",
        "\n",
        "95.3% [Lecun et al., 1998](https://hal.science/hal-03926082v1/document)\n",
        "\n",
        "99.65% [Ciresan et al., 2011](http://people.idsia.ch/~juergen/ijcai2011.pdf)\n",
        "\n",
        "\n",
        "MNIST is a great dataset for sanity checking your models, since the accuracy levels achieved by large convolutional neural networks and small linear models are both quite high. This makes it important to be familiar with the data.\n",
        "\n",
        "## Installation"
      ]
    },
    {
      "cell_type": "code",
      "execution_count": 1,
      "metadata": {
        "id": "521eh-8lG200"
      },
      "outputs": [],
      "source": [
        "# Update the PATH to include the user installation directory.\n",
        "import os\n",
        "os.environ['PATH'] = f\"{os.environ['PATH']}:/root/.local/bin\"\n",
        "\n",
        "# Restart the Kernel before you move on to the next step."
      ]
    },
    {
      "cell_type": "markdown",
      "metadata": {
        "id": "Y9ptdSYUG201"
      },
      "source": [
        "#### Important: Restart the Kernel before you move on to the next step."
      ]
    },
    {
      "cell_type": "code",
      "execution_count": null,
      "metadata": {
        "colab": {
          "base_uri": "https://localhost:8080/"
        },
        "id": "05sStXWKG201",
        "outputId": "3e0fe926-c688-4daf-c822-a6f89c796960"
      },
      "outputs": [
        {
          "name": "stdout",
          "output_type": "stream",
          "text": [
            "Requirement already satisfied: pip in /usr/local/lib/python3.10/dist-packages (23.1.2)\n",
            "Collecting pip\n",
            "  Downloading pip-24.0-py3-none-any.whl (2.1 MB)\n",
            "\u001b[2K     \u001b[90m━━━━━━━━━━━━━━━━━━━━━━━━━━━━━━━━━━━━━━━━\u001b[0m \u001b[32m2.1/2.1 MB\u001b[0m \u001b[31m7.2 MB/s\u001b[0m eta \u001b[36m0:00:00\u001b[0m\n",
            "\u001b[?25hInstalling collected packages: pip\n",
            "  Attempting uninstall: pip\n",
            "    Found existing installation: pip 23.1.2\n",
            "    Uninstalling pip-23.1.2:\n",
            "      Successfully uninstalled pip-23.1.2\n",
            "Successfully installed pip-24.0\n",
            "Collecting opencv-python-headless==4.5.5.64\n",
            "  Downloading opencv_python_headless-4.5.5.64-cp36-abi3-manylinux_2_17_x86_64.manylinux2014_x86_64.whl.metadata (18 kB)\n",
            "Requirement already satisfied: numpy>=1.21.2 in /usr/local/lib/python3.10/dist-packages (from opencv-python-headless==4.5.5.64) (1.25.2)\n",
            "Downloading opencv_python_headless-4.5.5.64-cp36-abi3-manylinux_2_17_x86_64.manylinux2014_x86_64.whl (47.8 MB)\n",
            "\u001b[2K   \u001b[90m━━━━━━━━━━━━━━━━━━━━━━━━━━━━━━━━━━━━━━━━\u001b[0m \u001b[32m47.8/47.8 MB\u001b[0m \u001b[31m12.7 MB/s\u001b[0m eta \u001b[36m0:00:00\u001b[0m\n",
            "\u001b[?25hInstalling collected packages: opencv-python-headless\n",
            "  Attempting uninstall: opencv-python-headless\n",
            "    Found existing installation: opencv-python-headless 4.9.0.80\n",
            "    Uninstalling opencv-python-headless-4.9.0.80:\n",
            "      Successfully uninstalled opencv-python-headless-4.9.0.80\n",
            "Successfully installed opencv-python-headless-4.5.5.64\n",
            "\u001b[33mWARNING: Running pip as the 'root' user can result in broken permissions and conflicting behaviour with the system package manager. It is recommended to use a virtual environment instead: https://pip.pypa.io/warnings/venv\u001b[0m\u001b[33m\n",
            "\u001b[0mRequirement already satisfied: ipywidgets in /usr/local/lib/python3.10/dist-packages (7.7.1)\n",
            "Collecting ipywidgets\n",
            "  Downloading ipywidgets-8.1.2-py3-none-any.whl.metadata (2.4 kB)\n",
            "Requirement already satisfied: widgetsnbextension in /usr/local/lib/python3.10/dist-packages (3.6.6)\n",
            "Collecting widgetsnbextension\n",
            "  Downloading widgetsnbextension-4.0.10-py3-none-any.whl.metadata (1.6 kB)\n",
            "Collecting comm>=0.1.3 (from ipywidgets)\n",
            "  Downloading comm-0.2.2-py3-none-any.whl.metadata (3.7 kB)\n",
            "Requirement already satisfied: ipython>=6.1.0 in /usr/local/lib/python3.10/dist-packages (from ipywidgets) (7.34.0)\n",
            "Requirement already satisfied: traitlets>=4.3.1 in /usr/local/lib/python3.10/dist-packages (from ipywidgets) (5.7.1)\n",
            "Requirement already satisfied: jupyterlab-widgets~=3.0.10 in /usr/local/lib/python3.10/dist-packages (from ipywidgets) (3.0.10)\n",
            "Requirement already satisfied: setuptools>=18.5 in /usr/local/lib/python3.10/dist-packages (from ipython>=6.1.0->ipywidgets) (67.7.2)\n",
            "Collecting jedi>=0.16 (from ipython>=6.1.0->ipywidgets)\n",
            "  Downloading jedi-0.19.1-py2.py3-none-any.whl.metadata (22 kB)\n",
            "Requirement already satisfied: decorator in /usr/local/lib/python3.10/dist-packages (from ipython>=6.1.0->ipywidgets) (4.4.2)\n",
            "Requirement already satisfied: pickleshare in /usr/local/lib/python3.10/dist-packages (from ipython>=6.1.0->ipywidgets) (0.7.5)\n",
            "Requirement already satisfied: prompt-toolkit!=3.0.0,!=3.0.1,<3.1.0,>=2.0.0 in /usr/local/lib/python3.10/dist-packages (from ipython>=6.1.0->ipywidgets) (3.0.43)\n",
            "Requirement already satisfied: pygments in /usr/local/lib/python3.10/dist-packages (from ipython>=6.1.0->ipywidgets) (2.16.1)\n",
            "Requirement already satisfied: backcall in /usr/local/lib/python3.10/dist-packages (from ipython>=6.1.0->ipywidgets) (0.2.0)\n",
            "Requirement already satisfied: matplotlib-inline in /usr/local/lib/python3.10/dist-packages (from ipython>=6.1.0->ipywidgets) (0.1.7)\n",
            "Requirement already satisfied: pexpect>4.3 in /usr/local/lib/python3.10/dist-packages (from ipython>=6.1.0->ipywidgets) (4.9.0)\n",
            "Requirement already satisfied: parso<0.9.0,>=0.8.3 in /usr/local/lib/python3.10/dist-packages (from jedi>=0.16->ipython>=6.1.0->ipywidgets) (0.8.4)\n",
            "Requirement already satisfied: ptyprocess>=0.5 in /usr/local/lib/python3.10/dist-packages (from pexpect>4.3->ipython>=6.1.0->ipywidgets) (0.7.0)\n",
            "Requirement already satisfied: wcwidth in /usr/local/lib/python3.10/dist-packages (from prompt-toolkit!=3.0.0,!=3.0.1,<3.1.0,>=2.0.0->ipython>=6.1.0->ipywidgets) (0.2.13)\n",
            "Downloading ipywidgets-8.1.2-py3-none-any.whl (139 kB)\n",
            "\u001b[2K   \u001b[90m━━━━━━━━━━━━━━━━━━━━━━━━━━━━━━━━━━━━━━━━\u001b[0m \u001b[32m139.4/139.4 kB\u001b[0m \u001b[31m1.8 MB/s\u001b[0m eta \u001b[36m0:00:00\u001b[0m\n",
            "\u001b[?25hDownloading widgetsnbextension-4.0.10-py3-none-any.whl (2.3 MB)\n",
            "\u001b[2K   \u001b[90m━━━━━━━━━━━━━━━━━━━━━━━━━━━━━━━━━━━━━━━━\u001b[0m \u001b[32m2.3/2.3 MB\u001b[0m \u001b[31m18.2 MB/s\u001b[0m eta \u001b[36m0:00:00\u001b[0m\n",
            "\u001b[?25hDownloading comm-0.2.2-py3-none-any.whl (7.2 kB)\n",
            "Downloading jedi-0.19.1-py2.py3-none-any.whl (1.6 MB)\n",
            "\u001b[2K   \u001b[90m━━━━━━━━━━━━━━━━━━━━━━━━━━━━━━━━━━━━━━━━\u001b[0m \u001b[32m1.6/1.6 MB\u001b[0m \u001b[31m67.0 MB/s\u001b[0m eta \u001b[36m0:00:00\u001b[0m\n",
            "\u001b[?25hInstalling collected packages: widgetsnbextension, jedi, comm, ipywidgets\n",
            "  Attempting uninstall: widgetsnbextension\n",
            "    Found existing installation: widgetsnbextension 3.6.6\n",
            "    Uninstalling widgetsnbextension-3.6.6:\n",
            "      Successfully uninstalled widgetsnbextension-3.6.6\n",
            "  Attempting uninstall: ipywidgets\n",
            "    Found existing installation: ipywidgets 7.7.1\n",
            "    Uninstalling ipywidgets-7.7.1:\n",
            "      Successfully uninstalled ipywidgets-7.7.1\n",
            "Successfully installed comm-0.2.2 ipywidgets-8.1.2 jedi-0.19.1 widgetsnbextension-4.0.10\n",
            "\u001b[33mWARNING: Running pip as the 'root' user can result in broken permissions and conflicting behaviour with the system package manager. It is recommended to use a virtual environment instead: https://pip.pypa.io/warnings/venv\u001b[0m\u001b[33m\n",
            "\u001b[0mEnabling notebook extension jupyter-js-widgets/extension...\n",
            "Paths used for configuration of notebook: \n",
            "    \t/root/.jupyter/nbconfig/notebook.json\n",
            "Paths used for configuration of notebook: \n",
            "    \t\n",
            "      - Validating: \u001b[32mOK\u001b[0m\n",
            "Paths used for configuration of notebook: \n",
            "    \t/root/.jupyter/nbconfig/notebook.json\n",
            "Collecting jupyter\n",
            "  Downloading jupyter-1.0.0-py2.py3-none-any.whl.metadata (995 bytes)\n",
            "Requirement already satisfied: notebook in /usr/local/lib/python3.10/dist-packages (from jupyter) (6.5.5)\n",
            "Collecting qtconsole (from jupyter)\n",
            "  Downloading qtconsole-5.5.2-py3-none-any.whl.metadata (5.1 kB)\n",
            "Requirement already satisfied: jupyter-console in /usr/local/lib/python3.10/dist-packages (from jupyter) (6.1.0)\n",
            "Requirement already satisfied: nbconvert in /usr/local/lib/python3.10/dist-packages (from jupyter) (6.5.4)\n",
            "Requirement already satisfied: ipykernel in /usr/local/lib/python3.10/dist-packages (from jupyter) (5.5.6)\n",
            "Requirement already satisfied: ipywidgets in /usr/local/lib/python3.10/dist-packages (from jupyter) (8.1.2)\n",
            "Requirement already satisfied: ipython-genutils in /usr/local/lib/python3.10/dist-packages (from ipykernel->jupyter) (0.2.0)\n",
            "Requirement already satisfied: ipython>=5.0.0 in /usr/local/lib/python3.10/dist-packages (from ipykernel->jupyter) (7.34.0)\n",
            "Requirement already satisfied: traitlets>=4.1.0 in /usr/local/lib/python3.10/dist-packages (from ipykernel->jupyter) (5.7.1)\n",
            "Requirement already satisfied: jupyter-client in /usr/local/lib/python3.10/dist-packages (from ipykernel->jupyter) (6.1.12)\n",
            "Requirement already satisfied: tornado>=4.2 in /usr/local/lib/python3.10/dist-packages (from ipykernel->jupyter) (6.3.3)\n",
            "Requirement already satisfied: comm>=0.1.3 in /usr/local/lib/python3.10/dist-packages (from ipywidgets->jupyter) (0.2.2)\n",
            "Requirement already satisfied: widgetsnbextension~=4.0.10 in /usr/local/lib/python3.10/dist-packages (from ipywidgets->jupyter) (4.0.10)\n",
            "Requirement already satisfied: jupyterlab-widgets~=3.0.10 in /usr/local/lib/python3.10/dist-packages (from ipywidgets->jupyter) (3.0.10)\n",
            "Requirement already satisfied: prompt-toolkit!=3.0.0,!=3.0.1,<3.1.0,>=2.0.0 in /usr/local/lib/python3.10/dist-packages (from jupyter-console->jupyter) (3.0.43)\n",
            "Requirement already satisfied: pygments in /usr/local/lib/python3.10/dist-packages (from jupyter-console->jupyter) (2.16.1)\n",
            "Requirement already satisfied: lxml in /usr/local/lib/python3.10/dist-packages (from nbconvert->jupyter) (4.9.4)\n",
            "Requirement already satisfied: beautifulsoup4 in /usr/local/lib/python3.10/dist-packages (from nbconvert->jupyter) (4.12.3)\n",
            "Requirement already satisfied: bleach in /usr/local/lib/python3.10/dist-packages (from nbconvert->jupyter) (6.1.0)\n",
            "Requirement already satisfied: defusedxml in /usr/local/lib/python3.10/dist-packages (from nbconvert->jupyter) (0.7.1)\n",
            "Requirement already satisfied: entrypoints>=0.2.2 in /usr/local/lib/python3.10/dist-packages (from nbconvert->jupyter) (0.4)\n",
            "Requirement already satisfied: jinja2>=3.0 in /usr/local/lib/python3.10/dist-packages (from nbconvert->jupyter) (3.1.4)\n",
            "Requirement already satisfied: jupyter-core>=4.7 in /usr/local/lib/python3.10/dist-packages (from nbconvert->jupyter) (5.7.2)\n",
            "Requirement already satisfied: jupyterlab-pygments in /usr/local/lib/python3.10/dist-packages (from nbconvert->jupyter) (0.3.0)\n",
            "Requirement already satisfied: MarkupSafe>=2.0 in /usr/local/lib/python3.10/dist-packages (from nbconvert->jupyter) (2.1.5)\n",
            "Requirement already satisfied: mistune<2,>=0.8.1 in /usr/local/lib/python3.10/dist-packages (from nbconvert->jupyter) (0.8.4)\n",
            "Requirement already satisfied: nbclient>=0.5.0 in /usr/local/lib/python3.10/dist-packages (from nbconvert->jupyter) (0.10.0)\n",
            "Requirement already satisfied: nbformat>=5.1 in /usr/local/lib/python3.10/dist-packages (from nbconvert->jupyter) (5.10.4)\n",
            "Requirement already satisfied: packaging in /usr/local/lib/python3.10/dist-packages (from nbconvert->jupyter) (24.0)\n",
            "Requirement already satisfied: pandocfilters>=1.4.1 in /usr/local/lib/python3.10/dist-packages (from nbconvert->jupyter) (1.5.1)\n",
            "Requirement already satisfied: tinycss2 in /usr/local/lib/python3.10/dist-packages (from nbconvert->jupyter) (1.3.0)\n",
            "Requirement already satisfied: pyzmq<25,>=17 in /usr/local/lib/python3.10/dist-packages (from notebook->jupyter) (24.0.1)\n",
            "Requirement already satisfied: argon2-cffi in /usr/local/lib/python3.10/dist-packages (from notebook->jupyter) (23.1.0)\n",
            "Requirement already satisfied: nest-asyncio>=1.5 in /usr/local/lib/python3.10/dist-packages (from notebook->jupyter) (1.6.0)\n",
            "Requirement already satisfied: Send2Trash>=1.8.0 in /usr/local/lib/python3.10/dist-packages (from notebook->jupyter) (1.8.3)\n",
            "Requirement already satisfied: terminado>=0.8.3 in /usr/local/lib/python3.10/dist-packages (from notebook->jupyter) (0.18.1)\n",
            "Requirement already satisfied: prometheus-client in /usr/local/lib/python3.10/dist-packages (from notebook->jupyter) (0.20.0)\n",
            "Requirement already satisfied: nbclassic>=0.4.7 in /usr/local/lib/python3.10/dist-packages (from notebook->jupyter) (1.0.0)\n",
            "Collecting qtpy>=2.4.0 (from qtconsole->jupyter)\n",
            "  Downloading QtPy-2.4.1-py3-none-any.whl.metadata (12 kB)\n",
            "Requirement already satisfied: setuptools>=18.5 in /usr/local/lib/python3.10/dist-packages (from ipython>=5.0.0->ipykernel->jupyter) (67.7.2)\n",
            "Requirement already satisfied: jedi>=0.16 in /usr/local/lib/python3.10/dist-packages (from ipython>=5.0.0->ipykernel->jupyter) (0.19.1)\n",
            "Requirement already satisfied: decorator in /usr/local/lib/python3.10/dist-packages (from ipython>=5.0.0->ipykernel->jupyter) (4.4.2)\n",
            "Requirement already satisfied: pickleshare in /usr/local/lib/python3.10/dist-packages (from ipython>=5.0.0->ipykernel->jupyter) (0.7.5)\n",
            "Requirement already satisfied: backcall in /usr/local/lib/python3.10/dist-packages (from ipython>=5.0.0->ipykernel->jupyter) (0.2.0)\n",
            "Requirement already satisfied: matplotlib-inline in /usr/local/lib/python3.10/dist-packages (from ipython>=5.0.0->ipykernel->jupyter) (0.1.7)\n",
            "Requirement already satisfied: pexpect>4.3 in /usr/local/lib/python3.10/dist-packages (from ipython>=5.0.0->ipykernel->jupyter) (4.9.0)\n",
            "Requirement already satisfied: python-dateutil>=2.1 in /usr/local/lib/python3.10/dist-packages (from jupyter-client->ipykernel->jupyter) (2.8.2)\n",
            "Requirement already satisfied: platformdirs>=2.5 in /usr/local/lib/python3.10/dist-packages (from jupyter-core>=4.7->nbconvert->jupyter) (4.2.1)\n",
            "Requirement already satisfied: jupyter-server>=1.8 in /usr/local/lib/python3.10/dist-packages (from nbclassic>=0.4.7->notebook->jupyter) (1.24.0)\n",
            "Requirement already satisfied: notebook-shim>=0.2.3 in /usr/local/lib/python3.10/dist-packages (from nbclassic>=0.4.7->notebook->jupyter) (0.2.4)\n",
            "Requirement already satisfied: fastjsonschema>=2.15 in /usr/local/lib/python3.10/dist-packages (from nbformat>=5.1->nbconvert->jupyter) (2.19.1)\n",
            "Requirement already satisfied: jsonschema>=2.6 in /usr/local/lib/python3.10/dist-packages (from nbformat>=5.1->nbconvert->jupyter) (4.19.2)\n",
            "Requirement already satisfied: wcwidth in /usr/local/lib/python3.10/dist-packages (from prompt-toolkit!=3.0.0,!=3.0.1,<3.1.0,>=2.0.0->jupyter-console->jupyter) (0.2.13)\n",
            "Requirement already satisfied: ptyprocess in /usr/local/lib/python3.10/dist-packages (from terminado>=0.8.3->notebook->jupyter) (0.7.0)\n",
            "Requirement already satisfied: argon2-cffi-bindings in /usr/local/lib/python3.10/dist-packages (from argon2-cffi->notebook->jupyter) (21.2.0)\n",
            "Requirement already satisfied: soupsieve>1.2 in /usr/local/lib/python3.10/dist-packages (from beautifulsoup4->nbconvert->jupyter) (2.5)\n",
            "Requirement already satisfied: six>=1.9.0 in /usr/local/lib/python3.10/dist-packages (from bleach->nbconvert->jupyter) (1.16.0)\n",
            "Requirement already satisfied: webencodings in /usr/local/lib/python3.10/dist-packages (from bleach->nbconvert->jupyter) (0.5.1)\n",
            "Requirement already satisfied: parso<0.9.0,>=0.8.3 in /usr/local/lib/python3.10/dist-packages (from jedi>=0.16->ipython>=5.0.0->ipykernel->jupyter) (0.8.4)\n",
            "Requirement already satisfied: attrs>=22.2.0 in /usr/local/lib/python3.10/dist-packages (from jsonschema>=2.6->nbformat>=5.1->nbconvert->jupyter) (23.2.0)\n",
            "Requirement already satisfied: jsonschema-specifications>=2023.03.6 in /usr/local/lib/python3.10/dist-packages (from jsonschema>=2.6->nbformat>=5.1->nbconvert->jupyter) (2023.12.1)\n",
            "Requirement already satisfied: referencing>=0.28.4 in /usr/local/lib/python3.10/dist-packages (from jsonschema>=2.6->nbformat>=5.1->nbconvert->jupyter) (0.35.1)\n",
            "Requirement already satisfied: rpds-py>=0.7.1 in /usr/local/lib/python3.10/dist-packages (from jsonschema>=2.6->nbformat>=5.1->nbconvert->jupyter) (0.18.1)\n",
            "Requirement already satisfied: anyio<4,>=3.1.0 in /usr/local/lib/python3.10/dist-packages (from jupyter-server>=1.8->nbclassic>=0.4.7->notebook->jupyter) (3.7.1)\n",
            "Requirement already satisfied: websocket-client in /usr/local/lib/python3.10/dist-packages (from jupyter-server>=1.8->nbclassic>=0.4.7->notebook->jupyter) (1.8.0)\n",
            "Requirement already satisfied: cffi>=1.0.1 in /usr/local/lib/python3.10/dist-packages (from argon2-cffi-bindings->argon2-cffi->notebook->jupyter) (1.16.0)\n",
            "Requirement already satisfied: idna>=2.8 in /usr/local/lib/python3.10/dist-packages (from anyio<4,>=3.1.0->jupyter-server>=1.8->nbclassic>=0.4.7->notebook->jupyter) (3.7)\n",
            "Requirement already satisfied: sniffio>=1.1 in /usr/local/lib/python3.10/dist-packages (from anyio<4,>=3.1.0->jupyter-server>=1.8->nbclassic>=0.4.7->notebook->jupyter) (1.3.1)\n",
            "Requirement already satisfied: exceptiongroup in /usr/local/lib/python3.10/dist-packages (from anyio<4,>=3.1.0->jupyter-server>=1.8->nbclassic>=0.4.7->notebook->jupyter) (1.2.1)\n",
            "Requirement already satisfied: pycparser in /usr/local/lib/python3.10/dist-packages (from cffi>=1.0.1->argon2-cffi-bindings->argon2-cffi->notebook->jupyter) (2.22)\n",
            "Downloading jupyter-1.0.0-py2.py3-none-any.whl (2.7 kB)\n",
            "Downloading qtconsole-5.5.2-py3-none-any.whl (123 kB)\n",
            "\u001b[2K   \u001b[90m━━━━━━━━━━━━━━━━━━━━━━━━━━━━━━━━━━━━━━━━\u001b[0m \u001b[32m123.4/123.4 kB\u001b[0m \u001b[31m1.6 MB/s\u001b[0m eta \u001b[36m0:00:00\u001b[0m\n",
            "\u001b[?25hDownloading QtPy-2.4.1-py3-none-any.whl (93 kB)\n",
            "\u001b[2K   \u001b[90m━━━━━━━━━━━━━━━━━━━━━━━━━━━━━━━━━━━━━━━━\u001b[0m \u001b[32m93.5/93.5 kB\u001b[0m \u001b[31m4.7 MB/s\u001b[0m eta \u001b[36m0:00:00\u001b[0m\n",
            "\u001b[?25hInstalling collected packages: qtpy, qtconsole, jupyter\n",
            "Successfully installed jupyter-1.0.0 qtconsole-5.5.2 qtpy-2.4.1\n",
            "\u001b[33mWARNING: Running pip as the 'root' user can result in broken permissions and conflicting behaviour with the system package manager. It is recommended to use a virtual environment instead: https://pip.pypa.io/warnings/venv\u001b[0m\u001b[33m\n",
            "\u001b[0m"
          ]
        }
      ],
      "source": [
        "# Install requirements\n",
        "!python -m pip install --upgrade pip\n",
        "!pip install opencv-python-headless==4.5.5.64\n",
        "!pip install --upgrade ipywidgets widgetsnbextension\n",
        "!jupyter nbextension enable --py widgetsnbextension\n",
        "!pip install --upgrade jupyter"
      ]
    },
    {
      "cell_type": "markdown",
      "metadata": {
        "id": "6cR6T6FTG202"
      },
      "source": [
        "## Imports"
      ]
    },
    {
      "cell_type": "code",
      "execution_count": 2,
      "metadata": {
        "id": "LHgv0cLKG202"
      },
      "outputs": [],
      "source": [
        "## This cell contains the essential imports you will need – DO NOT CHANGE THE CONTENTS! ##\n",
        "import torch\n",
        "import torch.nn as nn\n",
        "import torch.nn.functional as F\n",
        "import torch.optim as optim\n",
        "import torchvision\n",
        "import torchvision.transforms as transforms\n",
        "import matplotlib.pyplot as plt\n",
        "import numpy as np\n",
        "from torch.utils.data import DataLoader\n",
        "from torchvision import datasets"
      ]
    },
    {
      "cell_type": "code",
      "execution_count": 3,
      "metadata": {
        "colab": {
          "base_uri": "https://localhost:8080/"
        },
        "id": "yLsCaZ0dM6bQ",
        "outputId": "5dbced22-31e1-4010-e480-5c5ec83614cb"
      },
      "outputs": [
        {
          "output_type": "execute_result",
          "data": {
            "text/plain": [
              "device(type='cuda')"
            ]
          },
          "metadata": {},
          "execution_count": 3
        }
      ],
      "source": [
        "device = torch.device('cuda' if torch.cuda.is_available() else 'cpu')\n",
        "device"
      ]
    },
    {
      "cell_type": "markdown",
      "metadata": {
        "id": "881uJgX1G202"
      },
      "source": [
        "## Load the Dataset\n",
        "\n",
        "Specify your transforms as a list if you intend to .\n",
        "The transforms module is already loaded as `transforms`.\n",
        "\n",
        "MNIST is fortunately included in the torchvision module.\n",
        "Then, you can create your dataset using the `MNIST` object from `torchvision.datasets` ([the documentation is available here](https://pytorch.org/vision/stable/datasets.html#mnist)).\n",
        "Make sure to specify `download=True`!\n",
        "\n",
        "Once your dataset is created, you'll also need to define a `DataLoader` from the `torch.utils.data` module for both the train and the test set."
      ]
    },
    {
      "cell_type": "code",
      "execution_count": 4,
      "metadata": {
        "id": "kbotHFdlG202",
        "scrolled": true
      },
      "outputs": [],
      "source": [
        "batch_size=64\n",
        "# Define transforms\n",
        "transform = transforms.Compose([\n",
        "    transforms.ToTensor(),\n",
        "    transforms.Normalize((0.5,), (0.5,))\n",
        "])\n",
        "\n",
        "# Create training set and define training dataloader\n",
        "training_data = datasets.MNIST(\n",
        "    root=\"data\",\n",
        "    train=True,\n",
        "    download=True,\n",
        "    transform=transform,\n",
        ")\n",
        "train_loader = DataLoader(training_data, batch_size, shuffle=True)\n",
        "\n",
        "# Create validation set and define validation dataloader\n",
        "validation_data = datasets.MNIST(\n",
        "    root=\"data\",\n",
        "    train=False,\n",
        "    download=True,\n",
        "    transform=transform,\n",
        ")\n",
        "validation_loader = DataLoader(validation_data, batch_size, shuffle=True)\n",
        "\n",
        "# Create test set and define test dataloader\n",
        "test_data = datasets.MNIST(\n",
        "    root=\"data\",\n",
        "    train=False,\n",
        "    download=True,\n",
        "    transform=transform,\n",
        ")\n",
        "test_loader = DataLoader(test_data, batch_size, shuffle=True)"
      ]
    },
    {
      "cell_type": "markdown",
      "metadata": {
        "id": "xrdkBXT0G202"
      },
      "source": [
        "## Justify your preprocessing\n",
        "\n",
        "In your own words, why did you choose the transforms you chose? If you didn't use any preprocessing steps, why not?"
      ]
    },
    {
      "cell_type": "markdown",
      "metadata": {
        "id": "91jxdKaMG203"
      },
      "source": [
        "ToTensor() converts each image to a tensor vector.  \n",
        "Normalize((0.5,)(0.5,)) normalizes the input data by subtracting the mean(set to 0.5) and dividing by the standard deviation(set to 0.5) to center the data around zero and reduce the variance"
      ]
    },
    {
      "cell_type": "markdown",
      "metadata": {
        "id": "O8_vwlTIG203"
      },
      "source": [
        "## Explore the Dataset\n",
        "Using matplotlib, numpy, and torch, explore the dimensions of your data.\n",
        "\n",
        "You can view images using the `show5` function defined below – it takes a data loader as an argument.\n",
        "Remember that normalized images will look really weird to you! You may want to try changing your transforms to view images.\n",
        "Typically using no transforms other than `toTensor()` works well for viewing – but not as well for training your network.\n",
        "If `show5` doesn't work, go back and check your code for creating your data loaders and your training/test sets."
      ]
    },
    {
      "cell_type": "code",
      "execution_count": 5,
      "metadata": {
        "id": "DCV7DuDPG203"
      },
      "outputs": [],
      "source": [
        "## This cell contains a function for showing 5 images from a dataloader – DO NOT CHANGE THE CONTENTS! ##\n",
        "def show5(img_loader):\n",
        "    dataiter = iter(img_loader)\n",
        "\n",
        "    batch = next(dataiter)\n",
        "    labels = batch[1][0:5]\n",
        "    images = batch[0][0:5]\n",
        "    for i in range(5):\n",
        "        print(int(labels[i].detach()))\n",
        "\n",
        "        image = images[i].numpy()\n",
        "        plt.imshow(image.T.squeeze().T)\n",
        "        plt.show()"
      ]
    },
    {
      "cell_type": "code",
      "execution_count": 6,
      "metadata": {
        "colab": {
          "base_uri": "https://localhost:8080/",
          "height": 1000
        },
        "id": "q1TLTBF7G203",
        "outputId": "851810b6-d3a6-4e03-adce-8059240ba8db"
      },
      "outputs": [
        {
          "output_type": "stream",
          "name": "stdout",
          "text": [
            "2\n"
          ]
        },
        {
          "output_type": "display_data",
          "data": {
            "text/plain": [
              "<Figure size 640x480 with 1 Axes>"
            ],
            "image/png": "[encoded data removed]"
          },
          "metadata": {}
        },
        {
          "output_type": "stream",
          "name": "stdout",
          "text": [
            "6\n"
          ]
        },
        {
          "output_type": "display_data",
          "data": {
            "text/plain": [
              "<Figure size 640x480 with 1 Axes>"
            ],
            "image/png": "[encoded data removed]"
          },
          "metadata": {}
        },
        {
          "output_type": "stream",
          "name": "stdout",
          "text": [
            "9\n"
          ]
        },
        {
          "output_type": "display_data",
          "data": {
            "text/plain": [
              "<Figure size 640x480 with 1 Axes>"
            ],
            "image/png": "[encoded data removed]"
          },
          "metadata": {}
        },
        {
          "output_type": "stream",
          "name": "stdout",
          "text": [
            "7\n"
          ]
        },
        {
          "output_type": "display_data",
          "data": {
            "text/plain": [
              "<Figure size 640x480 with 1 Axes>"
            ],
            "image/png": "[encoded data removed]"
          },
          "metadata": {}
        },
        {
          "output_type": "stream",
          "name": "stdout",
          "text": [
            "1\n"
          ]
        },
        {
          "output_type": "display_data",
          "data": {
            "text/plain": [
              "<Figure size 640x480 with 1 Axes>"
            ],
            "image/png": "[encoded data removed]"
          },
          "metadata": {}
        }
      ],
      "source": [
        "# Explore data\n",
        "show5(train_loader)"
      ]
    },
    {
      "cell_type": "code",
      "execution_count": 7,
      "metadata": {
        "colab": {
          "base_uri": "https://localhost:8080/"
        },
        "id": "wphVSKrXpoR-",
        "outputId": "6662e868-e030-4c89-ca08-d14296753c83"
      },
      "outputs": [
        {
          "output_type": "stream",
          "name": "stdout",
          "text": [
            "torch.Size([60000, 28, 28])\n",
            "torch.Size([10000, 28, 28])\n",
            "torch.Size([10000, 28, 28])\n"
          ]
        }
      ],
      "source": [
        "print(training_data.data.shape)\n",
        "print(validation_data.data.shape)\n",
        "print(test_data.data.shape)"
      ]
    },
    {
      "cell_type": "markdown",
      "metadata": {
        "id": "RuZxnh86G203"
      },
      "source": [
        "## Build your Neural Network\n",
        "Using the layers in `torch.nn` (which has been imported as `nn`) and the `torch.nn.functional` module (imported as `F`), construct a neural network based on the parameters of the dataset.\n",
        "Use any architecture you like.\n",
        "\n",
        "*Note*: If you did not flatten your tensors in your transforms or as part of your preprocessing and you are using only `Linear` layers, make sure to use the `Flatten` layer in your network!"
      ]
    },
    {
      "cell_type": "code",
      "execution_count": 8,
      "metadata": {
        "id": "kFDz3jZLG203"
      },
      "outputs": [],
      "source": [
        "class Net(nn.Module):\n",
        "  def __init__(self):\n",
        "    super().__init__()\n",
        "    self.fc1 = nn.Linear(28 * 28, 120)\n",
        "    self.fc2 = nn.Linear(120, 84)\n",
        "    self.fc3 = nn.Linear(84, 10)\n",
        "\n",
        "  def forward(self, x):\n",
        "    x = torch.flatten(x, 1) # flatten all dimensions except batch\n",
        "    x = F.relu(self.fc1(x))\n",
        "    x = F.relu(self.fc2(x))\n",
        "    x = self.fc3(x)\n",
        "    return x"
      ]
    },
    {
      "cell_type": "markdown",
      "metadata": {
        "id": "ma9jhdbPG203"
      },
      "source": [
        "Specify a loss function and an optimizer, and instantiate the model.\n",
        "\n",
        "If you use a less common loss function, please note why you chose that loss function in a comment."
      ]
    },
    {
      "cell_type": "code",
      "execution_count": 9,
      "metadata": {
        "colab": {
          "base_uri": "https://localhost:8080/"
        },
        "id": "Q_Mz6-2RG203",
        "outputId": "5bc29a2b-15dc-4140-aac1-db0e2a40b0dc"
      },
      "outputs": [
        {
          "output_type": "stream",
          "name": "stdout",
          "text": [
            "Net(\n",
            "  (fc1): Linear(in_features=784, out_features=120, bias=True)\n",
            "  (fc2): Linear(in_features=120, out_features=84, bias=True)\n",
            "  (fc3): Linear(in_features=84, out_features=10, bias=True)\n",
            ")\n"
          ]
        }
      ],
      "source": [
        "net = Net()\n",
        "net.to(device)\n",
        "\n",
        "optimizer = optim.SGD(net.parameters(), lr=0.001, momentum=0.9)\n",
        "criterion = nn.CrossEntropyLoss()\n",
        "print(net)"
      ]
    },
    {
      "cell_type": "markdown",
      "metadata": {
        "id": "EynfZdobG203"
      },
      "source": [
        "## Running your Neural Network\n",
        "Use whatever method you like to train your neural network, and ensure you record the average loss at each epoch.\n",
        "Don't forget to use `torch.device()` and the `.to()` method for both your model and your data if you are using GPU!\n",
        "\n",
        "If you want to print your loss **during** each epoch, you can use the `enumerate` function and print the loss after a set number of batches. 250 batches works well for most people!"
      ]
    },
    {
      "cell_type": "code",
      "execution_count": 10,
      "metadata": {
        "colab": {
          "base_uri": "https://localhost:8080/"
        },
        "id": "OU0LuqTdG203",
        "outputId": "b6af517e-945a-44ee-ab05-e2fb0893fbcc"
      },
      "outputs": [
        {
          "output_type": "stream",
          "name": "stdout",
          "text": [
            "Epoch 1/20, Train Loss: 1.10588, Train Accuracy: 69.44%\n",
            "Epoch 1/20, Validation Loss: 0.42617, Validation Accuracy: 88.09%\n",
            "Epoch 2/20, Train Loss: 0.38536, Train Accuracy: 88.99%\n",
            "Epoch 2/20, Validation Loss: 0.33003, Validation Accuracy: 90.33%\n",
            "Epoch 3/20, Train Loss: 0.32719, Train Accuracy: 90.53%\n",
            "Epoch 3/20, Validation Loss: 0.29148, Validation Accuracy: 91.72%\n",
            "Epoch 4/20, Train Loss: 0.29678, Train Accuracy: 91.28%\n",
            "Epoch 4/20, Validation Loss: 0.27670, Validation Accuracy: 91.74%\n",
            "Epoch 5/20, Train Loss: 0.27342, Train Accuracy: 91.91%\n",
            "Epoch 5/20, Validation Loss: 0.25583, Validation Accuracy: 92.71%\n",
            "Epoch 6/20, Train Loss: 0.25256, Train Accuracy: 92.65%\n",
            "Epoch 6/20, Validation Loss: 0.23815, Validation Accuracy: 92.98%\n",
            "Epoch 7/20, Train Loss: 0.23284, Train Accuracy: 93.17%\n",
            "Epoch 7/20, Validation Loss: 0.21614, Validation Accuracy: 93.66%\n",
            "Epoch 8/20, Train Loss: 0.21390, Train Accuracy: 93.81%\n",
            "Epoch 8/20, Validation Loss: 0.20607, Validation Accuracy: 93.91%\n",
            "Epoch 9/20, Train Loss: 0.19789, Train Accuracy: 94.30%\n",
            "Epoch 9/20, Validation Loss: 0.18887, Validation Accuracy: 94.43%\n",
            "Epoch 10/20, Train Loss: 0.18349, Train Accuracy: 94.67%\n",
            "Epoch 10/20, Validation Loss: 0.17547, Validation Accuracy: 94.73%\n",
            "Epoch 11/20, Train Loss: 0.17088, Train Accuracy: 95.09%\n",
            "Epoch 11/20, Validation Loss: 0.16407, Validation Accuracy: 95.13%\n",
            "Epoch 12/20, Train Loss: 0.15961, Train Accuracy: 95.34%\n",
            "Epoch 12/20, Validation Loss: 0.15790, Validation Accuracy: 95.37%\n",
            "Epoch 13/20, Train Loss: 0.14977, Train Accuracy: 95.70%\n",
            "Epoch 13/20, Validation Loss: 0.15570, Validation Accuracy: 95.51%\n",
            "Epoch 14/20, Train Loss: 0.14047, Train Accuracy: 95.95%\n",
            "Epoch 14/20, Validation Loss: 0.13856, Validation Accuracy: 95.90%\n",
            "Epoch 15/20, Train Loss: 0.13188, Train Accuracy: 96.21%\n",
            "Epoch 15/20, Validation Loss: 0.13528, Validation Accuracy: 96.04%\n",
            "Epoch 16/20, Train Loss: 0.12465, Train Accuracy: 96.40%\n",
            "Epoch 16/20, Validation Loss: 0.13416, Validation Accuracy: 95.87%\n",
            "Epoch 17/20, Train Loss: 0.11758, Train Accuracy: 96.66%\n",
            "Epoch 17/20, Validation Loss: 0.12157, Validation Accuracy: 96.33%\n",
            "Epoch 18/20, Train Loss: 0.11176, Train Accuracy: 96.78%\n",
            "Epoch 18/20, Validation Loss: 0.11781, Validation Accuracy: 96.55%\n",
            "Epoch 19/20, Train Loss: 0.10605, Train Accuracy: 96.94%\n",
            "Epoch 19/20, Validation Loss: 0.11396, Validation Accuracy: 96.58%\n",
            "Epoch 20/20, Train Loss: 0.10072, Train Accuracy: 97.11%\n",
            "Epoch 20/20, Validation Loss: 0.11002, Validation Accuracy: 96.74%\n"
          ]
        }
      ],
      "source": [
        "train_losses = []\n",
        "train_accuracies = []\n",
        "test_accuracies = []\n",
        "validatin_losses = []\n",
        "validation_accuracies = []\n",
        "\n",
        "def train_model(model, criterion, optimizer, num_epochs):\n",
        "  iter = 0\n",
        "  for epoch in range(num_epochs):\n",
        "    train_loss = 0.0\n",
        "    train_correct = 0\n",
        "    validation_loss = 0.0\n",
        "    validation_correct = 0\n",
        "\n",
        "    # Set the model in training mode\n",
        "    net.train()\n",
        "    # Iterate over the DataLoader for training data\n",
        "    for i, (inputs, labels) in enumerate(train_loader):\n",
        "      # Move tensors to the configured device\n",
        "      inputs, labels = inputs.to(device), labels.to(device)\n",
        "      # Set gradients to zero\n",
        "      inputs = inputs.requires_grad_()\n",
        "      # Clear gradients w.r.t. parameters\n",
        "      optimizer.zero_grad()\n",
        "      # Forward pass to get output/logits\n",
        "      outputs = net(inputs)\n",
        "      # Calculate Loss\n",
        "      loss = criterion(outputs, labels)\n",
        "      # Getting gradients w.r.t. parameters\n",
        "      loss.backward()\n",
        "      # Updating parameters\n",
        "      optimizer.step()\n",
        "      # Total loss\n",
        "      train_loss += loss.item()\n",
        "      # Get predictions\n",
        "      _, predicted = torch.max(outputs.data, 1)\n",
        "      # Total correct predictions\n",
        "      train_correct += (predicted == labels).float().mean().item()\n",
        "\n",
        "    print(f'Epoch {epoch+1}/{num_epochs}, Train Loss: {train_loss/len(train_loader):.5f}, Train Accuracy: {train_correct/len(train_loader)*100:.2f}%')\n",
        "    train_losses.append(train_loss/len(train_loader))\n",
        "    train_accuracies.append(train_correct/len(train_loader)*100)\n",
        "\n",
        "    for inputs, labels in validation_loader:\n",
        "      # Move tensors to the configured device\n",
        "      inputs, labels = inputs.to(device), labels.to(device)\n",
        "      # Forward pass to get output/logits\n",
        "      outputs = net(inputs)\n",
        "      # Calculate Loss\n",
        "      loss = criterion(outputs, labels)\n",
        "      # Total loss\n",
        "      validation_loss += loss.item()\n",
        "      # Get predictions\n",
        "      _, predicted = torch.max(outputs.data, 1)\n",
        "      # Total correct predictions\n",
        "      validation_correct += (predicted == labels).float().mean().item()\n",
        "    print(f'Epoch {epoch+1}/{num_epochs}, Validation Loss: {validation_loss/len(validation_loader):.5f}, Validation Accuracy: {validation_correct/len(validation_loader)*100:.2f}%')\n",
        "    validatin_losses.append(validation_loss/len(validation_loader))\n",
        "    validation_accuracies.append(validation_correct/len(validation_loader)*100)\n",
        "\n",
        "train_model(net, criterion, optimizer, num_epochs=20)"
      ]
    },
    {
      "cell_type": "markdown",
      "metadata": {
        "id": "kZBYTyTSG204"
      },
      "source": [
        "Plot the training loss (and validation loss/accuracy, if recorded)."
      ]
    },
    {
      "cell_type": "code",
      "execution_count": 11,
      "metadata": {
        "colab": {
          "base_uri": "https://localhost:8080/",
          "height": 881
        },
        "id": "yvrYyKXcG204",
        "outputId": "c334a1c3-0e84-4074-842c-53dce7c8c772"
      },
      "outputs": [
        {
          "output_type": "display_data",
          "data": {
            "text/plain": [
              "<Figure size 640x480 with 1 Axes>"
            ],
            "image/png": "[encoded data removed]"
          },
          "metadata": {}
        },
        {
          "output_type": "display_data",
          "data": {
            "text/plain": [
              "<Figure size 640x480 with 1 Axes>"
            ],
            "image/png": "[encoded data removed]"
          },
          "metadata": {}
        }
      ],
      "source": [
        "plt.plot(train_losses, label='Training Loss')\n",
        "plt.plot(validatin_losses, label='Validation Loss')\n",
        "plt.xlabel('Epoch')\n",
        "plt.legend()\n",
        "plt.show()\n",
        "\n",
        "plt.plot(train_accuracies, label='Training Accuracy')\n",
        "plt.plot(validation_accuracies, label='Validation Accuracy')\n",
        "plt.xlabel('Epoch')\n",
        "plt.legend()\n",
        "plt.show()"
      ]
    },
    {
      "cell_type": "markdown",
      "metadata": {
        "id": "7Iy2jNWSG204"
      },
      "source": [
        "## Testing your model\n",
        "Using the previously created `DataLoader` for the test set, compute the percentage of correct predictions using the highest probability prediction.\n",
        "\n",
        "If your accuracy is over 90%, great work, but see if you can push a bit further!\n",
        "If your accuracy is under 90%, you'll need to make improvements.\n",
        "Go back and check your model architecture, loss function, and optimizer to make sure they're appropriate for an image classification task."
      ]
    },
    {
      "cell_type": "code",
      "execution_count": 12,
      "metadata": {
        "colab": {
          "base_uri": "https://localhost:8080/"
        },
        "id": "6RIS17O7G204",
        "outputId": "513f33d6-c83b-4f81-9bda-bc8c42af55e1"
      },
      "outputs": [
        {
          "output_type": "stream",
          "name": "stdout",
          "text": [
            "Test Accuracy: 96.77%\n"
          ]
        }
      ],
      "source": [
        "def check_accuracy(loader, model):\n",
        "  # Set the model in evaluation mode\n",
        "  net.eval()\n",
        "  test_correct = 0\n",
        "  with torch.no_grad():\n",
        "    # Iterate over the DataLoader for test data\n",
        "    for inputs, labels in test_loader:\n",
        "      # Move tensors to the configured device\n",
        "      inputs, labels = inputs.to(device), labels.to(device)\n",
        "      # Forward pass to get output/logits\n",
        "      outputs = net(inputs)\n",
        "      # Get predictions\n",
        "      _,predicted = outputs.max(1)\n",
        "      # Total correct predictions\n",
        "      test_correct += (predicted == labels).float().mean().item()\n",
        "    print(f'Test Accuracy: {test_correct/len(test_loader)*100:.2f}%')\n",
        "  net.train()\n",
        "check_accuracy(test_loader, net)"
      ]
    },
    {
      "cell_type": "code",
      "execution_count": 17,
      "metadata": {
        "colab": {
          "base_uri": "https://localhost:8080/",
          "height": 414
        },
        "id": "vDwxcp8BvK5N",
        "outputId": "c4992aff-f169-4e35-c9f9-c0776f4ba89e"
      },
      "outputs": [
        {
          "output_type": "stream",
          "name": "stdout",
          "text": [
            "Predicted Digit = 2\n",
            "Actual Label = 2\n",
            "Probability = 5738569000000.0\n",
            "List of Probabilities = [0.022159178, 7613.029, 5738569000000.0, 6685313.0, 2.6567846e-13, 4.771108e-05, 1.3033211e-07, 28546140.0, 1372.8435, 0.0037271993]\n"
          ]
        },
        {
          "output_type": "display_data",
          "data": {
            "text/plain": [
              "<Figure size 600x900 with 2 Axes>"
            ],
            "image/png": "[encoded data removed]"
          },
          "metadata": {}
        }
      ],
      "source": [
        "inputs, labels = next(iter(test_loader))\n",
        "img = inputs[0].view(1, 784)\n",
        "with torch.no_grad():\n",
        "    output = net(img.cuda())\n",
        "ps = torch.exp(output)\n",
        "probab = list((ps.cpu().data.numpy().squeeze()))\n",
        "print(\"Predicted Digit =\", probab.index(max(probab)))\n",
        "print(\"Actual Label =\", labels[0].item())\n",
        "print(\"Probability =\", max(probab))\n",
        "print(\"List of Probabilities =\", probab)\n",
        "\n",
        "ps = ps.cpu().data.numpy().squeeze()\n",
        "fig, (ax1, ax2) = plt.subplots(figsize=(6,9), ncols=2)\n",
        "ax1.imshow(img.resize_(1, 28, 28).numpy().squeeze(), cmap='gray')\n",
        "ax1.axis('off')\n",
        "ax2.barh(np.arange(10), ps)\n",
        "ax2.set_aspect(0.1)\n",
        "ax2.set_yticks(np.arange(10))\n",
        "ax2.set_yticklabels(np.arange(10))\n",
        "ax2.set_title('Class Probability')\n",
        "ax2.set_xlim(0,1.1)\n",
        "plt.tight_layout()"
      ]
    },
    {
      "cell_type": "markdown",
      "metadata": {
        "id": "2DZeAJeqG204"
      },
      "source": [
        "## Improving your model\n",
        "\n",
        "Once your model is done training, try tweaking your hyperparameters and training again below to improve your accuracy on the test set!"
      ]
    },
    {
      "cell_type": "code",
      "execution_count": 14,
      "metadata": {
        "id": "g8Czq1JdG204",
        "colab": {
          "base_uri": "https://localhost:8080/"
        },
        "outputId": "07758561-ab64-4655-f203-e5bf158d3531"
      },
      "outputs": [
        {
          "output_type": "stream",
          "name": "stdout",
          "text": [
            "Epoch 1/30, Train Loss: 0.12461, Train Accuracy: 96.22%\n",
            "Epoch 1/30, Validation Loss: 0.11758, Validation Accuracy: 96.43%\n",
            "Epoch 2/30, Train Loss: 0.09976, Train Accuracy: 96.97%\n",
            "Epoch 2/30, Validation Loss: 0.10817, Validation Accuracy: 96.67%\n",
            "Epoch 3/30, Train Loss: 0.08301, Train Accuracy: 97.57%\n",
            "Epoch 3/30, Validation Loss: 0.10673, Validation Accuracy: 96.75%\n",
            "Epoch 4/30, Train Loss: 0.07574, Train Accuracy: 97.67%\n",
            "Epoch 4/30, Validation Loss: 0.09623, Validation Accuracy: 97.16%\n",
            "Epoch 5/30, Train Loss: 0.06826, Train Accuracy: 97.85%\n",
            "Epoch 5/30, Validation Loss: 0.07771, Validation Accuracy: 97.54%\n",
            "Epoch 6/30, Train Loss: 0.06119, Train Accuracy: 98.11%\n",
            "Epoch 6/30, Validation Loss: 0.08996, Validation Accuracy: 97.24%\n",
            "Epoch 7/30, Train Loss: 0.05410, Train Accuracy: 98.29%\n",
            "Epoch 7/30, Validation Loss: 0.09445, Validation Accuracy: 97.07%\n",
            "Epoch 8/30, Train Loss: 0.04846, Train Accuracy: 98.48%\n",
            "Epoch 8/30, Validation Loss: 0.07835, Validation Accuracy: 97.56%\n",
            "Epoch 9/30, Train Loss: 0.04541, Train Accuracy: 98.57%\n",
            "Epoch 9/30, Validation Loss: 0.09204, Validation Accuracy: 97.16%\n",
            "Epoch 10/30, Train Loss: 0.04297, Train Accuracy: 98.64%\n",
            "Epoch 10/30, Validation Loss: 0.07969, Validation Accuracy: 97.56%\n",
            "Epoch 11/30, Train Loss: 0.03768, Train Accuracy: 98.80%\n",
            "Epoch 11/30, Validation Loss: 0.07354, Validation Accuracy: 97.76%\n",
            "Epoch 12/30, Train Loss: 0.03427, Train Accuracy: 98.94%\n",
            "Epoch 12/30, Validation Loss: 0.08335, Validation Accuracy: 97.29%\n",
            "Epoch 13/30, Train Loss: 0.03103, Train Accuracy: 99.03%\n",
            "Epoch 13/30, Validation Loss: 0.07870, Validation Accuracy: 97.63%\n",
            "Epoch 14/30, Train Loss: 0.02704, Train Accuracy: 99.17%\n",
            "Epoch 14/30, Validation Loss: 0.07627, Validation Accuracy: 97.81%\n",
            "Epoch 15/30, Train Loss: 0.02472, Train Accuracy: 99.25%\n",
            "Epoch 15/30, Validation Loss: 0.07410, Validation Accuracy: 97.76%\n",
            "Epoch 16/30, Train Loss: 0.02518, Train Accuracy: 99.20%\n",
            "Epoch 16/30, Validation Loss: 0.08044, Validation Accuracy: 97.70%\n",
            "Epoch 17/30, Train Loss: 0.02119, Train Accuracy: 99.37%\n",
            "Epoch 17/30, Validation Loss: 0.07712, Validation Accuracy: 97.75%\n",
            "Epoch 18/30, Train Loss: 0.02006, Train Accuracy: 99.38%\n",
            "Epoch 18/30, Validation Loss: 0.08003, Validation Accuracy: 97.67%\n",
            "Epoch 19/30, Train Loss: 0.02125, Train Accuracy: 99.35%\n",
            "Epoch 19/30, Validation Loss: 0.08031, Validation Accuracy: 97.77%\n",
            "Epoch 20/30, Train Loss: 0.01900, Train Accuracy: 99.42%\n",
            "Epoch 20/30, Validation Loss: 0.09296, Validation Accuracy: 97.58%\n",
            "Epoch 21/30, Train Loss: 0.01575, Train Accuracy: 99.54%\n",
            "Epoch 21/30, Validation Loss: 0.07902, Validation Accuracy: 97.86%\n",
            "Epoch 22/30, Train Loss: 0.01549, Train Accuracy: 99.52%\n",
            "Epoch 22/30, Validation Loss: 0.08256, Validation Accuracy: 97.67%\n",
            "Epoch 23/30, Train Loss: 0.01300, Train Accuracy: 99.62%\n",
            "Epoch 23/30, Validation Loss: 0.07784, Validation Accuracy: 97.80%\n",
            "Epoch 24/30, Train Loss: 0.01148, Train Accuracy: 99.65%\n",
            "Epoch 24/30, Validation Loss: 0.08042, Validation Accuracy: 97.79%\n",
            "Epoch 25/30, Train Loss: 0.00938, Train Accuracy: 99.78%\n",
            "Epoch 25/30, Validation Loss: 0.09378, Validation Accuracy: 97.68%\n",
            "Epoch 26/30, Train Loss: 0.01006, Train Accuracy: 99.73%\n",
            "Epoch 26/30, Validation Loss: 0.08770, Validation Accuracy: 97.77%\n",
            "Epoch 27/30, Train Loss: 0.00817, Train Accuracy: 99.79%\n",
            "Epoch 27/30, Validation Loss: 0.08607, Validation Accuracy: 97.90%\n",
            "Epoch 28/30, Train Loss: 0.00658, Train Accuracy: 99.86%\n",
            "Epoch 28/30, Validation Loss: 0.08031, Validation Accuracy: 98.02%\n",
            "Epoch 29/30, Train Loss: 0.00602, Train Accuracy: 99.88%\n",
            "Epoch 29/30, Validation Loss: 0.08770, Validation Accuracy: 97.89%\n",
            "Epoch 30/30, Train Loss: 0.00612, Train Accuracy: 99.86%\n",
            "Epoch 30/30, Validation Loss: 0.08766, Validation Accuracy: 97.89%\n"
          ]
        }
      ],
      "source": [
        "# changing the number of epochs\n",
        "num_epochs = 30\n",
        "# changing the learning rate\n",
        "optimizer = optim.SGD(net.parameters(), lr=0.01, momentum=0.9)\n",
        "# changing the batch size\n",
        "batch_size = 128\n",
        "train_loader = DataLoader(training_data, batch_size, shuffle=True)\n",
        "test_loader = DataLoader(test_data, batch_size, shuffle=True)\n",
        "train_model(net, criterion, optimizer, num_epochs)"
      ]
    },
    {
      "cell_type": "code",
      "execution_count": 15,
      "metadata": {
        "id": "OWthC7P-5bhP",
        "colab": {
          "base_uri": "https://localhost:8080/"
        },
        "outputId": "5ea8322e-7d6c-4a40-d2c6-37650e60e181"
      },
      "outputs": [
        {
          "output_type": "stream",
          "name": "stdout",
          "text": [
            "Test Accuracy: 97.90%\n"
          ]
        }
      ],
      "source": [
        "check_accuracy(test_loader, net)"
      ]
    },
    {
      "cell_type": "markdown",
      "metadata": {
        "id": "PPLeU3MBG204"
      },
      "source": [
        "## Saving your model\n",
        "Using `torch.save`, save your model for future loading."
      ]
    },
    {
      "cell_type": "code",
      "execution_count": 16,
      "metadata": {
        "id": "ekKBV9BPG204"
      },
      "outputs": [],
      "source": [
        "torch.save(net.state_dict(), 'model.pt')"
      ]
    }
  ],
  "metadata": {
    "accelerator": "GPU",
    "colab": {
      "gpuType": "T4",
      "provenance": [],
      "include_colab_link": true
    },
    "kernelspec": {
      "display_name": "Python 3",
      "name": "python3"
    },
    "language_info": {
      "codemirror_mode": {
        "name": "ipython",
        "version": 3
      },
      "file_extension": ".py",
      "mimetype": "text/x-python",
      "name": "python",
      "nbconvert_exporter": "python",
      "pygments_lexer": "ipython3",
      "version": "3.7.6"
    }
  },
  "nbformat": 4,
  "nbformat_minor": 0
}